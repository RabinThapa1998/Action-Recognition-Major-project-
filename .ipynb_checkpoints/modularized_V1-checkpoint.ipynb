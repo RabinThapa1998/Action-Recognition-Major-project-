{
 "cells": [
  {
   "cell_type": "code",
   "execution_count": 1,
   "metadata": {},
   "outputs": [],
   "source": [
    "from WindowCapture import WindowCapture\n",
    "\n",
    "import torch\n",
    "from torch.autograd import Variable\n",
    "\n",
    "from os.path import join\n",
    "from glob import glob\n",
    "import numpy as np\n",
    "import skimage.io as io\n",
    "from skimage.transform import resize\n",
    "\n",
    "from C3D_model import C3D\n",
    "\n",
    "from PIL import Image\n"
   ]
  },
  {
   "cell_type": "code",
   "execution_count": 2,
   "metadata": {},
   "outputs": [],
   "source": [
    "\n",
    "def read_labels_from_file(filepath):\n",
    "    \"\"\"\n",
    "    Reads Sport1M labels from file\n",
    "    \n",
    "    Parameters\n",
    "    ----------\n",
    "    filepath: str\n",
    "        the file.\n",
    "        \n",
    "    Returns\n",
    "    -------\n",
    "    list\n",
    "        list of sport names.\n",
    "    \"\"\"\n",
    "    with open(filepath, 'r',encoding=\"utf8\") as f:\n",
    "        labels = [line.strip() for line in f.readlines()]\n",
    "    return labels\n",
    "   \n"
   ]
  },
  {
   "cell_type": "code",
   "execution_count": 3,
   "metadata": {},
   "outputs": [
    {
     "name": "stdout",
     "output_type": "stream",
     "text": [
      "C3D(\n",
      "  (conv1): Conv3d(3, 64, kernel_size=(3, 3, 3), stride=(1, 1, 1), padding=(1, 1, 1))\n",
      "  (pool1): MaxPool3d(kernel_size=(1, 2, 2), stride=(1, 2, 2), padding=0, dilation=1, ceil_mode=False)\n",
      "  (conv2): Conv3d(64, 128, kernel_size=(3, 3, 3), stride=(1, 1, 1), padding=(1, 1, 1))\n",
      "  (pool2): MaxPool3d(kernel_size=(2, 2, 2), stride=(2, 2, 2), padding=0, dilation=1, ceil_mode=False)\n",
      "  (conv3a): Conv3d(128, 256, kernel_size=(3, 3, 3), stride=(1, 1, 1), padding=(1, 1, 1))\n",
      "  (conv3b): Conv3d(256, 256, kernel_size=(3, 3, 3), stride=(1, 1, 1), padding=(1, 1, 1))\n",
      "  (pool3): MaxPool3d(kernel_size=(2, 2, 2), stride=(2, 2, 2), padding=0, dilation=1, ceil_mode=False)\n",
      "  (conv4a): Conv3d(256, 512, kernel_size=(3, 3, 3), stride=(1, 1, 1), padding=(1, 1, 1))\n",
      "  (conv4b): Conv3d(512, 512, kernel_size=(3, 3, 3), stride=(1, 1, 1), padding=(1, 1, 1))\n",
      "  (pool4): MaxPool3d(kernel_size=(2, 2, 2), stride=(2, 2, 2), padding=0, dilation=1, ceil_mode=False)\n",
      "  (conv5a): Conv3d(512, 512, kernel_size=(3, 3, 3), stride=(1, 1, 1), padding=(1, 1, 1))\n",
      "  (conv5b): Conv3d(512, 512, kernel_size=(3, 3, 3), stride=(1, 1, 1), padding=(1, 1, 1))\n",
      "  (pool5): MaxPool3d(kernel_size=(2, 2, 2), stride=(2, 2, 2), padding=(0, 1, 1), dilation=1, ceil_mode=False)\n",
      "  (fc6): Linear(in_features=8192, out_features=4096, bias=True)\n",
      "  (fc7): Linear(in_features=4096, out_features=4096, bias=True)\n",
      "  (fc8): Linear(in_features=4096, out_features=2, bias=True)\n",
      "  (dropout): Dropout(p=0.5, inplace=False)\n",
      "  (relu): ReLU()\n",
      "  (softmax): Softmax(dim=None)\n",
      ")\n"
     ]
    }
   ],
   "source": [
    "net = C3D()\n",
    "print(net)\n",
    "\n",
    "net.load_state_dict(torch.load('C3D_Accu_90.pt'))\n",
    "net.cuda()\n",
    "net.eval()\n",
    "\n",
    "def model_1(X,nt):\n",
    "    X = Variable(X)\n",
    "    X = X.cuda()\n",
    "    prediction = nt(X)\n",
    "    prediction = prediction.data.cpu().numpy()\n",
    "   \n",
    "    # read labels\n",
    "    labels = read_labels_from_file('labels1.txt')\n",
    "\n",
    "    # print top predictions\n",
    "    top_inds = prediction[0].argsort()[::-1][:5]  # reverse sort and take five largest items\n",
    "#     print('\\nTop 5:')\n",
    "#     for i in top_inds:\n",
    "#         print('{:.5f} {}'.format(prediction[0][i], labels[i]))\n",
    "    print('{:.1f} {}'.format(prediction[0][top_inds[0]], labels[top_inds[0]]))\n",
    "    "
   ]
  },
  {
   "cell_type": "code",
   "execution_count": null,
   "metadata": {},
   "outputs": [
    {
     "name": "stdout",
     "output_type": "stream",
     "text": [
      "0.5 No Fights\n",
      "0.5 No Fights\n",
      "0.5 No Fights\n"
     ]
    }
   ],
   "source": [
    "\n",
    "wincap = WindowCapture('cornor.mkv')\n",
    "i=1\n",
    "img=[]\n",
    "while(True):\n",
    "    screenshot = wincap.get_screenshot()\n",
    "    \n",
    "    img.append(screenshot)\n",
    "    if len(img)==16:\n",
    "        clip = np.array([resize(frame, output_shape=(112, 200), preserve_range=True) for frame in img])\n",
    "#         print(clip.shape)\n",
    "        img=[]\n",
    "        clip = clip[:, :, 44:44+112, :]  # crop centrally\n",
    "        clip = clip.transpose(3, 0, 1, 2)  # ch, fr, h, w\n",
    "        clip = np.expand_dims(clip, axis=0)  # batch axis\n",
    "        clip = np.float32(clip)      \n",
    "        model_1(torch.from_numpy(clip),net)\n",
    "        \n",
    "        "
   ]
  },
  {
   "cell_type": "code",
   "execution_count": null,
   "metadata": {},
   "outputs": [],
   "source": []
  }
 ],
 "metadata": {
  "kernelspec": {
   "display_name": "Python 3",
   "language": "python",
   "name": "python3"
  },
  "language_info": {
   "codemirror_mode": {
    "name": "ipython",
    "version": 3
   },
   "file_extension": ".py",
   "mimetype": "text/x-python",
   "name": "python",
   "nbconvert_exporter": "python",
   "pygments_lexer": "ipython3",
   "version": "3.8.5"
  }
 },
 "nbformat": 4,
 "nbformat_minor": 4
}
